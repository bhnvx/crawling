{
 "cells": [
  {
   "cell_type": "code",
   "execution_count": null,
   "metadata": {},
   "outputs": [],
   "source": [
    "import requests\n",
    "import json\n",
    "import pandas as pd"
   ]
  },
  {
   "cell_type": "code",
   "execution_count": null,
   "metadata": {},
   "outputs": [],
   "source": [
    "API_KEY = 'Your API KEY'\n",
    "\n",
    "URL = 'https://api.themoviedb.org/3/movie/{}?api_key='\n",
    "\n",
    "movie_info_list = []\n",
    "\n",
    "# Range Setting\n",
    "for i in range(?, ?):\n",
    "    data = URL.format(i)+API_KEY\n",
    "    resq = requests.get(data)\n",
    "    print(resq.status_code)\n",
    "    \n",
    "    if resq.status_code == 200:\n",
    "        # json.loads(resq.text) 로 자신이 사용할 데이터 가져오기\n",
    "        tmdb_id = json.loads(resq.text)['id']\n",
    "        imdb_id = json.loads(resq.text)['imdb_id']\n",
    "        release_date = json.loads(resq.text)['release_date']\n",
    "        original_title = json.loads(resq.text)['original_title']\n",
    "        title = json.loads(resq.text)['title']\n",
    "        run_time = json.loads(resq.text)['runtime']\n",
    "        overview = json.loads(resq.text)['overview']\n",
    "        \n",
    "        # 예외처리\n",
    "        if json.loads(resq.text)['poster_path'] == None:\n",
    "            image_url = ''\n",
    "        else:\n",
    "            image_url = 'https://image.tmdb.org/t/p/w1280/'+json.loads(resq.text)['poster_path']\n",
    "        \n",
    "        # 장르는 여러가지가 있을 수 있으므로 for문으로 처리\n",
    "        genres = []\n",
    "        for x in range(0, len(json.loads(resq.text)['genres'])):\n",
    "            genres.append(json.loads(resq.text)['genres'][x]['name'])\n",
    "        genres_result = \", \".join(genres)\n",
    "        \n",
    "        movie_info = {'tmdb_id':tmdb_id, 'imdb_id':imdb_id, 'release_date':release_date, 'genres':genres_result, \n",
    "                      'title':title, 'original_title':original_title, 'runtime':run_time, 'overview':overview,\n",
    "                      'image_url':image_url}\n",
    "        movie_info_list.append(movie_info)\n",
    "        \n",
    "    elif resq.status_code == 404:\n",
    "        continue\n",
    "    elif resq.status_code == 401:\n",
    "        continue\n",
    "        \n",
    "df = pd.DataFrame(movie_info_list, columns=['tmdb_id', 'imdb_id', 'release_date', 'genres', 'title',  'original_title', 'runtime','image_url','overview'])\n",
    "\n",
    "filename = 'TMDB_DATABASE_CRAWLING.xlsx'\n",
    "\n",
    "url_preserve = pd.ExcelWriter(filename, options={'strings_to_urls': False})\n",
    "df.to_excel(url_preserve)\n",
    "url_preserve.save()\n",
    "print('Done')"
   ]
  },
  {
   "cell_type": "code",
   "execution_count": null,
   "metadata": {},
   "outputs": [],
   "source": []
  },
  {
   "cell_type": "code",
   "execution_count": null,
   "metadata": {},
   "outputs": [],
   "source": []
  },
  {
   "cell_type": "code",
   "execution_count": null,
   "metadata": {},
   "outputs": [],
   "source": []
  },
  {
   "cell_type": "code",
   "execution_count": null,
   "metadata": {},
   "outputs": [],
   "source": []
  }
 ],
 "metadata": {
  "kernelspec": {
   "display_name": "Python 3",
   "language": "python",
   "name": "python3"
  },
  "language_info": {
   "codemirror_mode": {
    "name": "ipython",
    "version": 3
   },
   "file_extension": ".py",
   "mimetype": "text/x-python",
   "name": "python",
   "nbconvert_exporter": "python",
   "pygments_lexer": "ipython3",
   "version": "3.8.3"
  }
 },
 "nbformat": 4,
 "nbformat_minor": 4
}
