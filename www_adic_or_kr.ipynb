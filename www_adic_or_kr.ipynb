{
 "cells": [
  {
   "cell_type": "code",
   "execution_count": null,
   "metadata": {},
   "outputs": [],
   "source": [
    "from bs4 import BeautifulSoup\n",
    "import pandas as pd\n",
    "import requests\n",
    "from selenium import webdriver\n",
    "from webdriver_manager.chrome import ChromeDriverManager"
   ]
  },
  {
   "cell_type": "code",
   "execution_count": null,
   "metadata": {},
   "outputs": [],
   "source": [
    "driver = webdriver.Chrome(ChromeDriverManager().install())\n",
    "\n",
    "url = 'https://www.adic.or.kr/search/search.cjsp?keyword='\n",
    "\n",
    "star_data = pd.read_excel('Star name file in here, if not file > you should make star name list')\n",
    "base = star_data['star_name']\n",
    "\n",
    "result = []\n",
    "\n",
    "for star_name in base:\n",
    "    driver.get(url+star_name)\n",
    "    \n",
    "    driver.find_element_by_xpath('//*[@id=\"level1\"]/ul/li[3]/a').click()\n",
    "    driver.find_element_by_xpath('//*[@id=\"subSectionLinks\"]/a[2]').click()\n",
    "\n",
    "    for i in range(1, 6):\n",
    "        try:\n",
    "            title = driver.find_element_by_xpath('//*[@id=\"mainFrame\"]/div/ul/li['+str(i)+']/dl/dt/a').text\n",
    "        except:\n",
    "            title = None\n",
    "        try:\n",
    "            category = driver.find_element_by_xpath('//*[@id=\"mainFrame\"]/div/ul/li['+str(i)+']/dl/dd[2]').text\n",
    "        except:\n",
    "            category = None\n",
    "        try:\n",
    "            brand = driver.find_element_by_xpath('//*[@id=\"mainFrame\"]/div/ul/li['+str(i)+']/dl/dd[3]/span[1]').text\n",
    "        except:\n",
    "            brand = None\n",
    "            \n",
    "        data = {'이름':star_name, '타이틀':title, '카테고리':category, '브랜드':brand}\n",
    "        result.append(data)\n",
    "\n",
    "df = pd.DataFrame(result, columns=['이름', '타이틀', '카테고리', '브랜드'])"
   ]
  },
  {
   "cell_type": "code",
   "execution_count": null,
   "metadata": {},
   "outputs": [],
   "source": [
    "df.to_excel('/star.xlsx')"
   ]
  },
  {
   "cell_type": "code",
   "execution_count": null,
   "metadata": {},
   "outputs": [],
   "source": []
  },
  {
   "cell_type": "code",
   "execution_count": null,
   "metadata": {},
   "outputs": [],
   "source": []
  }
 ],
 "metadata": {
  "kernelspec": {
   "display_name": "Python 3",
   "language": "python",
   "name": "python3"
  },
  "language_info": {
   "codemirror_mode": {
    "name": "ipython",
    "version": 3
   },
   "file_extension": ".py",
   "mimetype": "text/x-python",
   "name": "python",
   "nbconvert_exporter": "python",
   "pygments_lexer": "ipython3",
   "version": "3.8.5"
  }
 },
 "nbformat": 4,
 "nbformat_minor": 4
}
